{
 "cells": [
  {
   "cell_type": "code",
   "execution_count": 1,
   "metadata": {},
   "outputs": [],
   "source": [
    "from SigProfilerAssignment import Analyzer as Analyze\n",
    "import sigProfilerPlotting as sigPlt\n",
    "import os\n",
    "import numpy as np\n",
    "import pandas as pd\n",
    "import shutil\n",
    "import matplotlib.pyplot as plt \n",
    "import seaborn as sns"
   ]
  },
  {
   "attachments": {},
   "cell_type": "markdown",
   "metadata": {},
   "source": [
    "# COSMIC DATABASE (SigProfilerAssignment)"
   ]
  },
  {
   "cell_type": "code",
   "execution_count": 2,
   "metadata": {},
   "outputs": [
    {
     "name": "stdout",
     "output_type": "stream",
     "text": [
      "Starting matrix generation for SNVs and DINUCs...Completed! Elapsed time: 3.06 seconds.\n",
      "Starting matrix generation for INDELs...Completed! Elapsed time: 3.14 seconds.\n",
      "Matrices generated for 6 samples with 0 errors. Total of 140 SNVs, 1 DINUCs, and 11 INDELs were successfully analyzed.\n",
      "Removing samples with zero TMB ...... \n",
      "The following signatures are excluded: SBS11 SBS25 SBS31 SBS35 SBS86 SBS87 SBS90 SBS11 SBS25 SBS31 SBS32 SBS35 SBS86 SBS87 SBS90 SBS27 SBS43 SBS45 SBS46 SBS47 SBS48 SBS49 SBS50 SBS51 SBS52 SBS53 SBS54 SBS55 SBS56 SBS57 SBS58 SBS59 SBS60 SBS95 SBS42\n",
      "Assigning COSMIC sigs or Signature Database ...... \n",
      "|████████████████████████████████████████| 5/5 [100%] in 0.5s (10.06/s) \n",
      "\n",
      "\n",
      " \n",
      "Your Job Is Successfully Completed! Thank You For Using SigProfilerAssignment.\n",
      " \n"
     ]
    }
   ],
   "source": [
    "input_data = '/data/project/Alzheimer/Main/00.Neurogenesis/04.analysis/sigprofiler_Assignment/SGZ/vcf/'\n",
    "output = '/data/project/Alzheimer/Main/00.Neurogenesis/04.analysis/sigprofiler_Assignment/SGZ/result/'\n",
    "\n",
    "input_data = '/home/goldpm1/Meningioma/04.mutect/06.signature/'\n",
    "output = '/home/goldpm1/Meningioma/04.mutect/07.signature_result/'\n",
    "\n",
    "if not os.path.exists(output):\n",
    "        os.makedirs(output)\n",
    "\n",
    "Analyze.cosmic_fit(input_data, output, input_type = \"vcf\", genome_build=\"GRCh38\", context_type = \"96\", exome =True,\n",
    "                   signatures = None, signature_database = None, collapse_to_SBS96=False, make_plots = True,\n",
    "                   exclude_signature_subgroups = [\"Chemotherapy_signatures\", \"Treatment_signatures\", \"Artifact_signatures\", \"Test2\"] )"
   ]
  },
  {
   "cell_type": "markdown",
   "metadata": {},
   "source": [
    "## SBS signature fitting stack bar"
   ]
  },
  {
   "cell_type": "code",
   "execution_count": 3,
   "metadata": {
    "scrolled": false
   },
   "outputs": [],
   "source": [
    "f = open(output + 'Assignment_Solution/Activities/Assignment_Solution_Activities.txt','r')\n",
    "\n",
    "data = f.readlines()\n",
    "\n",
    "column_name = data[0].rstrip().split('\\t')\n",
    "data_split = [x.rstrip().split('\\t') for x in data[1:]]\n",
    "\n",
    "df = pd.DataFrame(data_split, columns = column_name)\n",
    "df = df.set_index(keys = 'Samples')\n",
    "\n",
    "for i in df.columns:\n",
    "    df[i] = pd.to_numeric(df[i])"
   ]
  },
  {
   "attachments": {},
   "cell_type": "markdown",
   "metadata": {},
   "source": [
    "### 0으로 가득찬 df는 filter하기"
   ]
  },
  {
   "cell_type": "code",
   "execution_count": 4,
   "metadata": {
    "scrolled": false
   },
   "outputs": [
    {
     "data": {
      "text/html": [
       "<div>\n",
       "<style scoped>\n",
       "    .dataframe tbody tr th:only-of-type {\n",
       "        vertical-align: middle;\n",
       "    }\n",
       "\n",
       "    .dataframe tbody tr th {\n",
       "        vertical-align: top;\n",
       "    }\n",
       "\n",
       "    .dataframe thead th {\n",
       "        text-align: right;\n",
       "    }\n",
       "</style>\n",
       "<table border=\"1\" class=\"dataframe\">\n",
       "  <thead>\n",
       "    <tr style=\"text-align: right;\">\n",
       "      <th></th>\n",
       "      <th>SBS5</th>\n",
       "      <th>SBS15</th>\n",
       "      <th>SBS16</th>\n",
       "      <th>SBS23</th>\n",
       "      <th>SBS38</th>\n",
       "      <th>SBS39</th>\n",
       "      <th>SBS44</th>\n",
       "      <th>SBS84</th>\n",
       "    </tr>\n",
       "    <tr>\n",
       "      <th>Samples</th>\n",
       "      <th></th>\n",
       "      <th></th>\n",
       "      <th></th>\n",
       "      <th></th>\n",
       "      <th></th>\n",
       "      <th></th>\n",
       "      <th></th>\n",
       "      <th></th>\n",
       "    </tr>\n",
       "  </thead>\n",
       "  <tbody>\n",
       "    <tr>\n",
       "      <th>220930_Dura</th>\n",
       "      <td>0</td>\n",
       "      <td>5</td>\n",
       "      <td>0</td>\n",
       "      <td>4</td>\n",
       "      <td>0</td>\n",
       "      <td>0</td>\n",
       "      <td>0</td>\n",
       "      <td>0</td>\n",
       "    </tr>\n",
       "    <tr>\n",
       "      <th>220930_multiple</th>\n",
       "      <td>25</td>\n",
       "      <td>0</td>\n",
       "      <td>8</td>\n",
       "      <td>0</td>\n",
       "      <td>0</td>\n",
       "      <td>0</td>\n",
       "      <td>0</td>\n",
       "      <td>0</td>\n",
       "    </tr>\n",
       "    <tr>\n",
       "      <th>221026_Dura</th>\n",
       "      <td>32</td>\n",
       "      <td>0</td>\n",
       "      <td>0</td>\n",
       "      <td>0</td>\n",
       "      <td>0</td>\n",
       "      <td>0</td>\n",
       "      <td>13</td>\n",
       "      <td>20</td>\n",
       "    </tr>\n",
       "    <tr>\n",
       "      <th>221026_multiple</th>\n",
       "      <td>6</td>\n",
       "      <td>0</td>\n",
       "      <td>0</td>\n",
       "      <td>0</td>\n",
       "      <td>4</td>\n",
       "      <td>9</td>\n",
       "      <td>0</td>\n",
       "      <td>0</td>\n",
       "    </tr>\n",
       "    <tr>\n",
       "      <th>221102_multiple</th>\n",
       "      <td>0</td>\n",
       "      <td>5</td>\n",
       "      <td>0</td>\n",
       "      <td>4</td>\n",
       "      <td>0</td>\n",
       "      <td>0</td>\n",
       "      <td>0</td>\n",
       "      <td>0</td>\n",
       "    </tr>\n",
       "  </tbody>\n",
       "</table>\n",
       "</div>"
      ],
      "text/plain": [
       "                 SBS5  SBS15  SBS16  SBS23  SBS38  SBS39  SBS44  SBS84\n",
       "Samples                                                               \n",
       "220930_Dura         0      5      0      4      0      0      0      0\n",
       "220930_multiple    25      0      8      0      0      0      0      0\n",
       "221026_Dura        32      0      0      0      0      0     13     20\n",
       "221026_multiple     6      0      0      0      4      9      0      0\n",
       "221102_multiple     0      5      0      4      0      0      0      0"
      ]
     },
     "execution_count": 4,
     "metadata": {},
     "output_type": "execute_result"
    }
   ],
   "source": [
    "for column in df.columns:\n",
    "    check = set()\n",
    "    for value in df[column]:\n",
    "        check.add(value)\n",
    "    if len(check) == 1:\n",
    "        df = df.drop(column, axis = 'columns')\n",
    "\n",
    "df"
   ]
  },
  {
   "cell_type": "markdown",
   "metadata": {},
   "source": [
    "### Percentage 로 변환하기"
   ]
  },
  {
   "cell_type": "code",
   "execution_count": 5,
   "metadata": {
    "scrolled": false
   },
   "outputs": [
    {
     "data": {
      "text/html": [
       "<div>\n",
       "<style scoped>\n",
       "    .dataframe tbody tr th:only-of-type {\n",
       "        vertical-align: middle;\n",
       "    }\n",
       "\n",
       "    .dataframe tbody tr th {\n",
       "        vertical-align: top;\n",
       "    }\n",
       "\n",
       "    .dataframe thead th {\n",
       "        text-align: right;\n",
       "    }\n",
       "</style>\n",
       "<table border=\"1\" class=\"dataframe\">\n",
       "  <thead>\n",
       "    <tr style=\"text-align: right;\">\n",
       "      <th></th>\n",
       "      <th>SBS5</th>\n",
       "      <th>SBS15</th>\n",
       "      <th>SBS16</th>\n",
       "      <th>SBS23</th>\n",
       "      <th>SBS38</th>\n",
       "      <th>SBS39</th>\n",
       "      <th>SBS44</th>\n",
       "      <th>SBS84</th>\n",
       "    </tr>\n",
       "    <tr>\n",
       "      <th>Samples</th>\n",
       "      <th></th>\n",
       "      <th></th>\n",
       "      <th></th>\n",
       "      <th></th>\n",
       "      <th></th>\n",
       "      <th></th>\n",
       "      <th></th>\n",
       "      <th></th>\n",
       "    </tr>\n",
       "  </thead>\n",
       "  <tbody>\n",
       "    <tr>\n",
       "      <th>220930_Dura</th>\n",
       "      <td>0</td>\n",
       "      <td>55</td>\n",
       "      <td>0</td>\n",
       "      <td>44</td>\n",
       "      <td>0</td>\n",
       "      <td>0</td>\n",
       "      <td>0</td>\n",
       "      <td>0</td>\n",
       "    </tr>\n",
       "    <tr>\n",
       "      <th>220930_multiple</th>\n",
       "      <td>75</td>\n",
       "      <td>0</td>\n",
       "      <td>24</td>\n",
       "      <td>0</td>\n",
       "      <td>0</td>\n",
       "      <td>0</td>\n",
       "      <td>0</td>\n",
       "      <td>0</td>\n",
       "    </tr>\n",
       "    <tr>\n",
       "      <th>221026_Dura</th>\n",
       "      <td>49</td>\n",
       "      <td>0</td>\n",
       "      <td>0</td>\n",
       "      <td>0</td>\n",
       "      <td>0</td>\n",
       "      <td>0</td>\n",
       "      <td>20</td>\n",
       "      <td>30</td>\n",
       "    </tr>\n",
       "    <tr>\n",
       "      <th>221026_multiple</th>\n",
       "      <td>31</td>\n",
       "      <td>0</td>\n",
       "      <td>0</td>\n",
       "      <td>0</td>\n",
       "      <td>21</td>\n",
       "      <td>47</td>\n",
       "      <td>0</td>\n",
       "      <td>0</td>\n",
       "    </tr>\n",
       "    <tr>\n",
       "      <th>221102_multiple</th>\n",
       "      <td>0</td>\n",
       "      <td>55</td>\n",
       "      <td>0</td>\n",
       "      <td>44</td>\n",
       "      <td>0</td>\n",
       "      <td>0</td>\n",
       "      <td>0</td>\n",
       "      <td>0</td>\n",
       "    </tr>\n",
       "  </tbody>\n",
       "</table>\n",
       "</div>"
      ],
      "text/plain": [
       "                 SBS5  SBS15  SBS16  SBS23  SBS38  SBS39  SBS44  SBS84\n",
       "Samples                                                               \n",
       "220930_Dura         0     55      0     44      0      0      0      0\n",
       "220930_multiple    75      0     24      0      0      0      0      0\n",
       "221026_Dura        49      0      0      0      0      0     20     30\n",
       "221026_multiple    31      0      0      0     21     47      0      0\n",
       "221102_multiple     0     55      0     44      0      0      0      0"
      ]
     },
     "execution_count": 5,
     "metadata": {},
     "output_type": "execute_result"
    }
   ],
   "source": [
    "SBS_name = df.columns\n",
    "total_count = {}\n",
    "\n",
    "for index, row in df.iterrows():  ## index == A.~~ row = value\n",
    "    total = 0\n",
    "    for value in row:\n",
    "        total += value\n",
    "    total_count[index] = total\n",
    "\n",
    "for index, row in df.iterrows():\n",
    "    for idx, value in enumerate(row):\n",
    "        df[SBS_name[idx]][index] = value/total_count[index]*100\n",
    "        \n",
    "df"
   ]
  },
  {
   "cell_type": "code",
   "execution_count": 44,
   "metadata": {},
   "outputs": [],
   "source": [
    "fig, ax = plt.subplots( figsize=(12, 6), nrows = 1, ncols = 1 )\n",
    "#plt.figure ( figsize = (20, 15) )\n",
    "sns.set_style(\"white\")\n",
    "ax.set_title (\"Stacked bar chart\", fontsize = 24, fontweight='heavy')\n",
    "df.plot (kind = \"bar\", stacked=True , ax = ax)\n",
    "ax.set_xticklabels (list ( df.index ), rotation  = 0, fontsize = 12, fontweight='bold')\n",
    "ax.set_xlabel(\"\")\n",
    "plt.savefig (\"/home/goldpm1/Meningioma/script/41.SigProfiler/barchart.jpg\", dpi = 300)\n",
    "plt.show()"
   ]
  },
  {
   "attachments": {},
   "cell_type": "markdown",
   "metadata": {},
   "source": [
    "# DE NOVO SIGNATURE (SigProfilerExtractor)"
   ]
  },
  {
   "cell_type": "code",
   "execution_count": 47,
   "metadata": {},
   "outputs": [
    {
     "name": "stdout",
     "output_type": "stream",
     "text": [
      "\n",
      "************** Reported Current Memory Use: 1.97 GB *****************\n",
      "\n",
      "Starting matrix generation for SNVs and DINUCs...Completed! Elapsed time: 1.6 seconds.\n",
      "Starting matrix generation for INDELs...Completed! Elapsed time: 1.74 seconds.\n",
      "Matrices generated for 6 samples with 0 errors. Total of 140 SNVs, 1 DINUCs, and 11 INDELs were successfully analyzed.\n",
      "Extracting signature 1 for mutation type 96\n",
      "The matrix normalizing cutoff is 9600\n",
      "\n",
      "\n",
      "Time taken to collect 100 iterations for 1 signatures is 14.7 seconds\n",
      "Optimization time is 4.684453010559082 seconds\n",
      "The reconstruction error is 0.5627, average process stability is 1.0 and \n",
      "the minimum process stability is 1.0 for 1 signatures\n",
      "\n",
      "\n",
      "Extracting signature 2 for mutation type 96\n",
      "The matrix normalizing cutoff is 9600\n",
      "\n",
      "\n",
      "Time taken to collect 100 iterations for 2 signatures is 17.91 seconds\n",
      "Optimization time is 4.435749769210815 seconds\n",
      "The reconstruction error is 0.4565, average process stability is 0.33 and \n",
      "the minimum process stability is 0.07 for 2 signatures\n",
      "\n",
      "\n",
      "Extracting signature 3 for mutation type 96\n",
      "The matrix normalizing cutoff is 9600\n",
      "\n",
      "\n",
      "Time taken to collect 100 iterations for 3 signatures is 21.39 seconds\n",
      "Optimization time is 4.689273357391357 seconds\n",
      "The reconstruction error is 0.3377, average process stability is 0.26 and \n",
      "the minimum process stability is -0.01 for 3 signatures\n",
      "\n",
      "\n",
      "Extracting signature 4 for mutation type 96\n",
      "The matrix normalizing cutoff is 9600\n",
      "\n",
      "\n",
      "Time taken to collect 100 iterations for 4 signatures is 21.72 seconds\n",
      "Optimization time is 4.425774574279785 seconds\n",
      "The reconstruction error is 0.1136, average process stability is 0.44 and \n",
      "the minimum process stability is 0.34 for 4 signatures\n",
      "\n",
      "\n",
      "Extracting signature 5 for mutation type 96\n",
      "The matrix normalizing cutoff is 9600\n",
      "\n",
      "\n",
      "Time taken to collect 100 iterations for 5 signatures is 83.75 seconds\n",
      "Optimization time is 4.527963399887085 seconds\n",
      "The reconstruction error is 0.124, average process stability is 0.28 and \n",
      "the minimum process stability is -0.11 for 5 signatures\n",
      "\n",
      "\n",
      "\n",
      " De Novo Fitting .....\n",
      "|████████████████████████████████████████| 5/5 [100%] in 0.0s (181.74/s) \n"
     ]
    },
    {
     "ename": "KeyError",
     "evalue": "'make_decomposition_plots'",
     "output_type": "error",
     "traceback": [
      "\u001b[0;31m---------------------------------------------------------------------------\u001b[0m",
      "\u001b[0;31mKeyError\u001b[0m                                  Traceback (most recent call last)",
      "\u001b[0;32m<ipython-input-47-8ea6953fe786>\u001b[0m in \u001b[0;36m<module>\u001b[0;34m\u001b[0m\n\u001b[1;32m      1\u001b[0m \u001b[0;32mfrom\u001b[0m \u001b[0mSigProfilerExtractor\u001b[0m \u001b[0;32mimport\u001b[0m \u001b[0msigpro\u001b[0m \u001b[0;32mas\u001b[0m \u001b[0msig\u001b[0m\u001b[0;34m\u001b[0m\u001b[0;34m\u001b[0m\u001b[0m\n\u001b[1;32m      2\u001b[0m \u001b[0;34m\u001b[0m\u001b[0m\n\u001b[0;32m----> 3\u001b[0;31m sig.sigProfilerExtractor (input_type = \"vcf\", output = output, input_data = input_data, reference_genome=\"GRCh38\", context_type = \"96,DINUC,ID\", exome =True,\n\u001b[0m\u001b[1;32m      4\u001b[0m                                     \u001b[0mminimum_signatures\u001b[0m\u001b[0;34m=\u001b[0m\u001b[0;36m1\u001b[0m\u001b[0;34m,\u001b[0m \u001b[0mmaximum_signatures\u001b[0m\u001b[0;34m=\u001b[0m\u001b[0;36m10\u001b[0m\u001b[0;34m,\u001b[0m \u001b[0mnmf_replicates\u001b[0m\u001b[0;34m=\u001b[0m\u001b[0;36m100\u001b[0m\u001b[0;34m,\u001b[0m \u001b[0mresample\u001b[0m \u001b[0;34m=\u001b[0m \u001b[0;32mTrue\u001b[0m\u001b[0;34m,\u001b[0m \u001b[0mbatch_size\u001b[0m\u001b[0;34m=\u001b[0m\u001b[0;36m1\u001b[0m\u001b[0;34m,\u001b[0m \u001b[0mcpu\u001b[0m\u001b[0;34m=\u001b[0m\u001b[0;34m-\u001b[0m\u001b[0;36m1\u001b[0m\u001b[0;34m,\u001b[0m \u001b[0mgpu\u001b[0m\u001b[0;34m=\u001b[0m\u001b[0;32mFalse\u001b[0m\u001b[0;34m,\u001b[0m\u001b[0;34m\u001b[0m\u001b[0;34m\u001b[0m\u001b[0m\n\u001b[1;32m      5\u001b[0m                                     \u001b[0mnmf_init\u001b[0m\u001b[0;34m=\u001b[0m\u001b[0;34m\"random\"\u001b[0m\u001b[0;34m,\u001b[0m \u001b[0mprecision\u001b[0m\u001b[0;34m=\u001b[0m \u001b[0;34m\"single\"\u001b[0m\u001b[0;34m,\u001b[0m \u001b[0mmatrix_normalization\u001b[0m\u001b[0;34m=\u001b[0m \u001b[0;34m\"gmm\"\u001b[0m\u001b[0;34m,\u001b[0m \u001b[0mseeds\u001b[0m \u001b[0;34m=\u001b[0m \u001b[0;34m\"random\"\u001b[0m\u001b[0;34m,\u001b[0m\u001b[0;34m\u001b[0m\u001b[0;34m\u001b[0m\u001b[0m\n",
      "\u001b[0;32m/opt/Yonsei/python/3.8.1/lib/python3.8/site-packages/SigProfilerExtractor/sigpro.py\u001b[0m in \u001b[0;36msigProfilerExtractor\u001b[0;34m(input_type, output, input_data, reference_genome, opportunity_genome, cosmic_version, context_type, exome, minimum_signatures, maximum_signatures, nmf_replicates, resample, batch_size, cpu, gpu, nmf_init, precision, matrix_normalization, seeds, min_nmf_iterations, max_nmf_iterations, nmf_test_conv, nmf_tolerance, nnls_add_penalty, nnls_remove_penalty, de_novo_fit_penalty, initial_remove_penalty, refit_denovo_signatures, collapse_to_SBS96, clustering_distance, export_probabilities, make_decomposition_plots, stability, min_stability, combined_stability, get_all_signature_matrices)\u001b[0m\n\u001b[1;32m    812\u001b[0m         \u001b[0mdevopts\u001b[0m\u001b[0;34m[\u001b[0m\u001b[0;34m'sequence'\u001b[0m\u001b[0;34m]\u001b[0m\u001b[0;34m=\u001b[0m\u001b[0msequence\u001b[0m\u001b[0;34m\u001b[0m\u001b[0;34m\u001b[0m\u001b[0m\n\u001b[1;32m    813\u001b[0m \u001b[0;34m\u001b[0m\u001b[0m\n\u001b[0;32m--> 814\u001b[0;31m         \u001b[0mdecomp\u001b[0m\u001b[0;34m.\u001b[0m\u001b[0mspa_analyze\u001b[0m\u001b[0;34m(\u001b[0m \u001b[0mallgenomes\u001b[0m\u001b[0;34m,\u001b[0m \u001b[0moutput\u001b[0m\u001b[0;34m,\u001b[0m \u001b[0msignatures\u001b[0m\u001b[0;34m=\u001b[0m\u001b[0mprocessAvg\u001b[0m\u001b[0;34m,\u001b[0m\u001b[0mgenome_build\u001b[0m\u001b[0;34m=\u001b[0m\u001b[0;34m\"GRCh37\"\u001b[0m\u001b[0;34m,\u001b[0m \u001b[0mverbose\u001b[0m\u001b[0;34m=\u001b[0m\u001b[0;32mFalse\u001b[0m\u001b[0;34m,\u001b[0m\u001b[0mdecompose_fit_option\u001b[0m\u001b[0;34m=\u001b[0m \u001b[0;32mTrue\u001b[0m\u001b[0;34m,\u001b[0m\u001b[0mdenovo_refit_option\u001b[0m\u001b[0;34m=\u001b[0m\u001b[0;32mTrue\u001b[0m\u001b[0;34m,\u001b[0m\u001b[0mcosmic_fit_option\u001b[0m\u001b[0;34m=\u001b[0m\u001b[0;32mFalse\u001b[0m\u001b[0;34m,\u001b[0m\u001b[0mdevopts\u001b[0m\u001b[0;34m=\u001b[0m\u001b[0mdevopts\u001b[0m\u001b[0;34m)\u001b[0m\u001b[0;34m\u001b[0m\u001b[0;34m\u001b[0m\u001b[0m\n\u001b[0m\u001b[1;32m    815\u001b[0m \u001b[0;34m\u001b[0m\u001b[0m\n\u001b[1;32m    816\u001b[0m \u001b[0;34m\u001b[0m\u001b[0m\n",
      "\u001b[0;32m/opt/Yonsei/python/3.8.1/lib/python3.8/site-packages/SigProfilerAssignment/decomposition.py\u001b[0m in \u001b[0;36mspa_analyze\u001b[0;34m(samples, output, input_type, context_type, signatures, signature_database, decompose_fit_option, denovo_refit_option, cosmic_fit_option, nnls_add_penalty, nnls_remove_penalty, initial_remove_penalty, de_novo_fit_penalty, genome_build, cosmic_version, make_plots, collapse_to_SBS96, connected_sigs, verbose, devopts, new_signature_thresh_hold, exclude_signature_subgroups, exome, export_probabilities, export_probabilities_per_mutation, sample_reconstruction_plots, make_metadata)\u001b[0m\n\u001b[1;32m    449\u001b[0m             \u001b[0mgenomes\u001b[0m \u001b[0;34m=\u001b[0m \u001b[0mgenomes\u001b[0m\u001b[0;34m.\u001b[0m\u001b[0mset_index\u001b[0m\u001b[0;34m(\u001b[0m\u001b[0mindex\u001b[0m\u001b[0;34m)\u001b[0m\u001b[0;34m\u001b[0m\u001b[0;34m\u001b[0m\u001b[0m\n\u001b[1;32m    450\u001b[0m             \u001b[0mgenomes\u001b[0m\u001b[0;34m.\u001b[0m\u001b[0mcolumns\u001b[0m \u001b[0;34m=\u001b[0m \u001b[0mcolnames\u001b[0m\u001b[0;34m\u001b[0m\u001b[0;34m\u001b[0m\u001b[0m\n\u001b[0;32m--> 451\u001b[0;31m             \u001b[0mmake_decomposition_plots\u001b[0m \u001b[0;34m=\u001b[0m \u001b[0mdevopts\u001b[0m\u001b[0;34m[\u001b[0m\u001b[0;34m'make_decomposition_plots'\u001b[0m\u001b[0;34m]\u001b[0m\u001b[0;34m\u001b[0m\u001b[0;34m\u001b[0m\u001b[0m\n\u001b[0m\u001b[1;32m    452\u001b[0m             \u001b[0;31m#genomes = genomes.rename_axis(\"Mutation Types\", axis=\"columns\")\u001b[0m\u001b[0;34m\u001b[0m\u001b[0;34m\u001b[0m\u001b[0;34m\u001b[0m\u001b[0m\n\u001b[1;32m    453\u001b[0m \u001b[0;34m\u001b[0m\u001b[0m\n",
      "\u001b[0;31mKeyError\u001b[0m: 'make_decomposition_plots'"
     ]
    }
   ],
   "source": [
    "from SigProfilerExtractor import sigpro as sig\n",
    "\n",
    "sig.sigProfilerExtractor (input_type = \"vcf\", output = output, input_data = input_data, reference_genome=\"GRCh38\", context_type = \"96,DINUC,ID\", exome =True,\n",
    "                                    minimum_signatures=1, maximum_signatures=10, nmf_replicates=100, resample = True, batch_size=1, cpu=-1, gpu=False, \n",
    "                                    nmf_init=\"random\", precision= \"single\", matrix_normalization= \"gmm\", seeds = \"random\", \n",
    "                                    min_nmf_iterations= 10000, max_nmf_iterations=1000000, nmf_test_conv= 10000, nmf_tolerance= 1e-15, get_all_signature_matrices= False,\n",
    "                                    make_decomposition_plots = True)\n",
    "                   #signatures = None, signature_database = None, collapse_to_SBS96=False, make_plots = True )"
   ]
  },
  {
   "cell_type": "markdown",
   "metadata": {},
   "source": []
  }
 ],
 "metadata": {
  "kernelspec": {
   "display_name": "cnvpytor",
   "language": "python",
   "name": "python3"
  },
  "language_info": {
   "codemirror_mode": {
    "name": "ipython",
    "version": 3
   },
   "file_extension": ".py",
   "mimetype": "text/x-python",
   "name": "python",
   "nbconvert_exporter": "python",
   "pygments_lexer": "ipython3",
   "version": "3.8.1"
  },
  "vscode": {
   "interpreter": {
    "hash": "b604463b8a902c2f122961866cb17f2bdae0c94d238d7f27f27d7b7f77c7b073"
   }
  }
 },
 "nbformat": 4,
 "nbformat_minor": 4
}
