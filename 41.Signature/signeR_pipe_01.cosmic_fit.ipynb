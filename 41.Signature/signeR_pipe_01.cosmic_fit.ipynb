{
 "cells": [
  {
   "cell_type": "code",
   "execution_count": 50,
   "metadata": {},
   "outputs": [],
   "source": [
    "import pandas as pd\n",
    "from sklearn.metrics.pairwise import cosine_similarity\n",
    "import numpy as np\n",
    "\n",
    "COSMIC_PATH = \"/home/goldpm1/resources/COSMIC_SBS/COSMIC_v3.3.1_SBS_GRCh38.txt\"\n",
    "SIGNER_PATH=\"/home/goldpm1/Meningioma/41.Signature/02.signeR\"\n",
    "SIGNER_RESULT_COSMIC_DIR=\"/home/goldpm1/Meningioma/41.Signature/02.signeR/02.result_cosmic\"\n",
    "SIGNER_RESULT_Phat_PATH=\"/home/goldpm1/Meningioma/41.Signature/02.signeR/02.result/signatures_Phat.tsv\"\n",
    "\n",
    "COSMIC_df = pd.read_csv (COSMIC_PATH, sep = \"\\t\")\n",
    "SIGNER_df = pd.read_csv (SIGNER_RESULT_Phat_PATH, sep = \"\\t\")\n"
   ]
  },
  {
   "cell_type": "code",
   "execution_count": 51,
   "metadata": {},
   "outputs": [],
   "source": [
    "# COSMIC_df의 signature 표현양식과 순서가 SIGNER_df와 다르니 맞춰주는 작업\n",
    "new_COSMIC_df_index = []\n",
    "for s in list (COSMIC_df [\"Type\"] ):\n",
    "    t = s[0] + s[2] + s[-1] + \">\" + s[4]\n",
    "    new_COSMIC_df_index.append(t)\n",
    "\n",
    "COSMIC_df [\"Type\"] = pd.Series(new_COSMIC_df_index)\n",
    "\n",
    "# Create a dictionary to map the old row labels to the new row labels\n",
    "row_mapping = {s: i for i, s in enumerate( list ( SIGNER_df.index ) )}\n",
    "\n",
    "# Apply the mapping and reindex the DataFrame\n",
    "COSMIC_df = COSMIC_df.set_index(\"Type\").rename(index=row_mapping).sort_index().reset_index()\n",
    "\n",
    "# 다시 index로 넣어주고 Type column은 제거해주기\n",
    "COSMIC_df = COSMIC_df.set_index( SIGNER_df.index ).drop (\"Type\", axis = 1)"
   ]
  },
  {
   "cell_type": "code",
   "execution_count": 102,
   "metadata": {},
   "outputs": [
    {
     "name": "stdout",
     "output_type": "stream",
     "text": [
      "S1\tlst[0:5] = [0.91 0.72 0.46 0.45 0.43]\tlst_arg[0:5] = Index(['SBS15', 'SBS6', 'SBS42', 'SBS44', 'SBS1'], dtype='object')\n",
      "S2\tlst[0:5] = [0.77 0.72 0.68 0.68 0.62]\tlst_arg[0:5] = Index(['SBS5', 'SBS3', 'SBS92', 'SBS40', 'SBS87'], dtype='object')\n"
     ]
    }
   ],
   "source": [
    "# Define two matrices\n",
    "matrix1 = np.array([[1, 2, 3, 4 ], [3, 4, 6, 10], [5, 6, 10, 21]])    # SBS 개수 * 96 signatrues\n",
    "matrix2 = np.array( [ [1, 2.2, 3.1, 4.4] ] )   # 1 * 96 signatures\n",
    "\n",
    "# Compute cosine similarity\n",
    "cos_sim = cosine_similarity( COSMIC_df.values.transpose(), SIGNER_df.values.transpose() )\n",
    "\n",
    "# 가장 비슷한 (= cosine similarity가 가장 높은 SBS) SBS 찾기\n",
    "\n",
    "for signature_i in range ( cos_sim.shape[1] ):\n",
    "    lst = sorted(  cos_sim[:, signature_i], reverse=True)\n",
    "    lst_arg = []\n",
    "    for i in lst:\n",
    "        lst_arg.append ( list(cos_sim[:, signature_i]).index (i) )\n",
    "\n",
    "    max = np.max ( cos_sim[:, signature_i] )\n",
    "    max_arg = np.argmax ( cos_sim[:, signature_i] )\n",
    "    #print (\"S{}\\tmax = {}\\tmax_arg = {}\".format(signature_i + 1, round (max, 2), COSMIC_df.columns[ max_arg ] )) \n",
    "    print (\"S{}\\tlst[0:5] = {}\\tlst_arg[0:5] = {}\".format (signature_i + 1, np.round (lst[0:5], 2) ,  COSMIC_df.columns [ [i for i in  lst_arg [0:5]] ]  )  )\n"
   ]
  }
 ],
 "metadata": {
  "kernelspec": {
   "display_name": "cnvpytor",
   "language": "python",
   "name": "python3"
  },
  "language_info": {
   "codemirror_mode": {
    "name": "ipython",
    "version": 3
   },
   "file_extension": ".py",
   "mimetype": "text/x-python",
   "name": "python",
   "nbconvert_exporter": "python",
   "pygments_lexer": "ipython3",
   "version": "3.7.12"
  },
  "orig_nbformat": 4,
  "vscode": {
   "interpreter": {
    "hash": "b604463b8a902c2f122961866cb17f2bdae0c94d238d7f27f27d7b7f77c7b073"
   }
  }
 },
 "nbformat": 4,
 "nbformat_minor": 2
}
