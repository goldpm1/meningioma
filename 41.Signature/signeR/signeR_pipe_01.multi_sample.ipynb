{
 "cells": [
  {
   "cell_type": "code",
   "execution_count": null,
   "metadata": {
    "vscode": {
     "languageId": "r"
    }
   },
   "outputs": [
    {
     "ename": "",
     "evalue": "",
     "output_type": "error",
     "traceback": [
      "\u001b[1;31m커널을 시작하지 못했습니다. \n",
      "\u001b[1;31mError in dyn.load(file, DLLpath = DLLpath, ...) : \n",
      "\u001b[1;31m  unable to load shared object '/opt/Yonsei/R/4.2.0/lib64/R/library/rlang/libs/rlang.so':\n",
      "\u001b[1;31m  /opt/Yonsei/R/4.2.0/lib64/R/library/rlang/libs/rlang.so: undefined symbol: EXTPTR_PROT\n",
      "\u001b[1;31mCalls: :: ... namespaceImport -> loadNamespace -> library.dynam -> dyn.load\n",
      "\u001b[1;31mExecution halted. \n",
      "\u001b[1;31m자세한 내용은 Jupyter <a href='command:jupyter.viewOutput'>로그</a>를 참조하세요."
     ]
    }
   ],
   "source": [
    "library(\"signeR\")\n",
    "library(\"VariantAnnotation\")\n",
    "library(\"BSgenome.Hsapiens.UCSC.hg38\")\n",
    "library(\"rtracklayer\")\n"
   ]
  },
  {
   "cell_type": "code",
   "execution_count": null,
   "metadata": {
    "vscode": {
     "languageId": "r"
    }
   },
   "outputs": [],
   "source": []
  }
 ],
 "metadata": {
  "kernelspec": {
   "display_name": "R",
   "language": "R",
   "name": "ir"
  },
  "language_info": {
   "name": "R"
  },
  "orig_nbformat": 4
 },
 "nbformat": 4,
 "nbformat_minor": 2
}
