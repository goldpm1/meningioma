{
 "cells": [
  {
   "cell_type": "code",
   "execution_count": 12,
   "metadata": {},
   "outputs": [
    {
     "name": "stdout",
     "output_type": "stream",
     "text": [
      "A01056:428:HJHT3DSX7:3:1101:11595:20854\t99\t#21\t29674714\t60\t124M1D27M\t#21\t29674812\t250\tTTCACCTCTTTGGGTGCCATCCTCAGGGTTAGCCCAGGTCCCTCCTCTGCAGGGGTGGGGTGGTGTCTTTTCCTGCTACCTGCCCTCTTCTGTGAAGCTGACATCTCATCCTTTCCTTGCAGGGCAAAGAGGCAGATCAGCTGAAGCAGGA\tarray('B', [37, 37, 37, 37, 37, 37, 37, 25, 37, 37, 25, 37, 37, 37, 37, 37, 37, 37, 25, 37, 37, 37, 37, 37, 37, 37, 37, 37, 37, 37, 25, 11, 25, 37, 37, 37, 37, 37, 37, 37, 37, 37, 37, 25, 37, 37, 37, 37, 37, 37, 25, 37, 37, 37, 37, 11, 37, 37, 37, 37, 11, 37, 37, 37, 37, 37, 37, 37, 25, 37, 37, 37, 37, 25, 37, 37, 11, 37, 37, 37, 37, 37, 37, 37, 37, 25, 25, 37, 37, 37, 11, 37, 37, 37, 37, 37, 37, 37, 37, 25, 37, 37, 37, 37, 25, 11, 37, 37, 37, 37, 37, 37, 37, 11, 11, 37, 37, 37, 11, 37, 37, 37, 37, 37, 37, 11, 37, 25, 25, 37, 37, 37, 25, 11, 37, 37, 37, 37, 37, 11, 25, 37, 37, 37, 11, 11, 37, 25, 37, 25, 37])\t[('MC', '26M1D125M'), ('MD', '124^C27'), ('NM', 1), ('AS', 144), ('XS', 20)]\tNone\t0\t623191333\t1\t0\t0\t0\n",
      "A01056:428:HJHT3DSX7:3:1102:14055:1063\t99\t#21\t29674714\t60\t124M1D27M\t#21\t29674812\t250\tTTCACCTCTTTGGGTGCCATCCTCAGGGTTAGCCCAGGTCCCTCCTCTGCAGGGGTGGGGTGGTGTCTTTTCCTACTACCTGCCCTCTTCTGTGAAGCTGACATCTCATCCTTTCCTTGCAGGGCAAAGAGGCAGATCAGCTGAAGCAGGA\tarray('B', [37, 37, 37, 37, 37, 37, 37, 37, 37, 37, 37, 37, 37, 37, 37, 37, 37, 37, 37, 37, 37, 37, 37, 37, 37, 37, 37, 37, 37, 37, 37, 37, 37, 37, 37, 37, 37, 37, 37, 37, 37, 37, 37, 37, 37, 37, 37, 37, 37, 37, 37, 37, 37, 37, 37, 37, 37, 37, 37, 37, 37, 37, 37, 37, 37, 37, 37, 37, 37, 37, 37, 37, 37, 37, 37, 37, 37, 37, 37, 37, 37, 37, 37, 37, 37, 37, 37, 37, 37, 37, 37, 37, 37, 37, 37, 37, 37, 37, 37, 37, 37, 37, 37, 37, 37, 37, 37, 37, 37, 37, 37, 37, 37, 37, 37, 37, 37, 37, 37, 37, 37, 37, 37, 37, 37, 37, 37, 25, 37, 37, 37, 37, 37, 37, 37, 37, 37, 37, 37, 37, 37, 37, 37, 37, 11, 37, 37, 37, 37, 37, 25])\t[('MC', '26M1D125M'), ('MD', '74G49^C27'), ('NM', 2), ('AS', 139), ('XS', 20)]\tNone\t0\t54371616\t1\t0\t0\t0\n",
      "A01056:428:HJHT3DSX7:3:1102:20500:1266\t99\t#21\t29674714\t60\t124M1D27M\t#21\t29674812\t250\tTTCACCTCTTTGGGTGCCATCCTCAGGGTTAGCCCAGGTCCCTCCTCTGCAGGGGTGGGGTGGTGTCTTTTCCTGCTACCTGCCCTCTTCTGTGAAGCTGACATCTCATCCTTTCCTTGCAGGGCAAAGAGGCAGATCAGCTGAAGCAGGA\tarray('B', [37, 37, 37, 37, 37, 37, 37, 37, 37, 37, 37, 37, 37, 37, 37, 37, 37, 37, 37, 37, 37, 37, 37, 37, 37, 37, 37, 37, 37, 37, 37, 37, 37, 37, 37, 37, 37, 37, 37, 37, 37, 37, 37, 37, 37, 37, 37, 37, 37, 37, 25, 37, 37, 37, 37, 37, 37, 37, 37, 37, 37, 37, 37, 37, 37, 37, 37, 37, 37, 37, 37, 37, 37, 37, 37, 37, 37, 37, 37, 37, 37, 37, 37, 37, 37, 37, 37, 37, 37, 37, 37, 37, 37, 37, 37, 37, 37, 37, 37, 37, 37, 37, 37, 37, 37, 37, 37, 37, 37, 37, 37, 37, 37, 37, 37, 37, 37, 37, 37, 37, 37, 37, 37, 37, 37, 25, 37, 37, 37, 37, 37, 37, 37, 37, 37, 37, 37, 37, 37, 37, 37, 37, 37, 37, 37, 37, 37, 25, 37, 37, 25])\t[('MC', '26M1D125M'), ('MD', '124^C27'), ('NM', 1), ('AS', 144), ('XS', 20)]\tNone\t0\t371569775\t1\t0\t0\t0\n",
      "A01056:428:HJHT3DSX7:3:1330:6415:11005\t147\t#21\t29674753\t60\t84M60D67M\t#21\t29674714\t-250\tCCCTCCTCTGCAGGGGTGGGGTGGTGTCTTTTCCTGCTACCTGCCCTCTTCTGTGAAGCTGACATCTCATCCTTTCCTTGCAGGGCCAAGCAGAAGCTCCTGGAGATTGCCACCAAGCCCACGTACCCGGTGAGCCTGGGGGCCACCAGCT\tarray('B', [37, 37, 37, 37, 37, 37, 37, 37, 37, 37, 37, 37, 37, 37, 37, 37, 37, 37, 37, 37, 37, 37, 37, 37, 37, 37, 37, 37, 37, 37, 25, 37, 37, 37, 37, 37, 37, 25, 37, 37, 37, 37, 37, 37, 37, 37, 37, 37, 37, 37, 37, 37, 37, 37, 37, 37, 37, 37, 37, 37, 37, 37, 37, 37, 37, 37, 37, 37, 37, 37, 37, 37, 37, 37, 37, 37, 37, 37, 25, 37, 37, 37, 37, 37, 37, 37, 37, 37, 37, 37, 37, 37, 37, 37, 37, 37, 37, 37, 37, 37, 25, 37, 37, 37, 37, 37, 25, 37, 37, 37, 37, 37, 37, 37, 37, 37, 37, 37, 37, 37, 37, 37, 37, 37, 37, 37, 37, 37, 37, 37, 37, 37, 37, 37, 37, 37, 37, 37, 37, 37, 37, 37, 37, 37, 37, 37, 37, 37, 37, 37, 37])\t[('MC', '128M23S'), ('MD', '84^GCCAAAGAGGCAGATCAGCTGAAGCAGGACCTGCAGGAAGCACGCGAGGCGGAGCGAAGA67'), ('NM', 60), ('AS', 89), ('XS', 23)]\tNone\t0\t623191333\t1\t0\t0\t0\n",
      "The count of 'A' at position chr22:29674838 is: 0\n",
      "The count of 'T' at position chr22:29674838 is: 4\n",
      "The count of 'C' at position chr22:29674838 is: 7844\n",
      "The count of 'G' at position chr22:29674838 is: 0\n",
      "The count of 'N' at position chr22:29674838 is: 0\n",
      "The count of 'del' at position chr22:29674838 is: 4\n"
     ]
    }
   ],
   "source": [
    "import pysam\n",
    "\n",
    "# File path\n",
    "bam_path = \"/data/project/Meningioma/00.Targetted/02.Align/hg38/Dura/01.Pre_bam/230419.sorted.bam\"\n",
    "#bam_path = \"/data/project/Meningioma/00.Targetted/02.Align/hg38/Dura/02.MarkDuplicate/230419.mkdp.sorted.bam\"\n",
    "#bam_path = \"/data/project/Meningioma/00.Targetted/02.Align/hg38/Dura/05.Final_bam/230419_Dura.bam\"\n",
    "#bam_path = \"/data/project/Meningioma/02.Align/hg38/Dura/05.Final_bam/230419_Dura.bam\"\n",
    "\n",
    "\n",
    "# Load the bam file\n",
    "samfile = pysam.AlignmentFile(bam_path, \"rb\")\n",
    "\n",
    "# Position details\n",
    "chromosome = \"chr22\"\n",
    "position = 29674837  # 0-based index\n",
    "\n",
    "# Dictionary to store counts for each base\n",
    "base_counts = {\"A\": 0, \"T\": 0, \"C\": 0, \"G\": 0, \"N\": 0, \"del\": 0}\n",
    "\n",
    "# Iterate over the reads covering the position\n",
    "for pileupcolumn in samfile.pileup(chromosome, position, position + 1):\n",
    "    if pileupcolumn.pos == position:\n",
    "        for pileupread in pileupcolumn.pileups:\n",
    "            if pileupread.is_del:\n",
    "                base_counts[\"del\"] += 1\n",
    "                print (pileupread)\n",
    "            #elif not pileupread.is_refskip:  # query position is None if is_del or is_refskip is set\n",
    "            else:\n",
    "                base = pileupread.alignment.query_sequence[pileupread.query_position]\n",
    "                if base in base_counts:\n",
    "                    base_counts[base] += 1\n",
    "                else:\n",
    "                    base_counts[base] = 1\n",
    "\n",
    "for base, count in base_counts.items():\n",
    "    print(f\"The count of '{base}' at position {chromosome}:{position + 1} is: {count}\")\n",
    "\n",
    "# Close the bam file\n",
    "samfile.close()"
   ]
  },
  {
   "cell_type": "code",
   "execution_count": 3,
   "metadata": {},
   "outputs": [
    {
     "name": "stdout",
     "output_type": "stream",
     "text": [
      "TAGCCCAGGTCCCTCCTCTGCAGGGGTGGGGTGGTGTCTTTTCCTGCTACCTGCCCTCTTCTGTGAAGCTGACATCTCATCCTTTCCTTGCAGGGCAAAGAGGCAGATCAGCTGAAGCAGGACCTGCAGGAAGCACGCGAGGCGGAGCGAA\n",
      "REF Allele Count: 10187\n",
      "ALT Allele Count: 1\n"
     ]
    }
   ],
   "source": [
    "import pysam\n",
    "\n",
    "# Open the BAM file for reading\n",
    "bam_file = pysam.AlignmentFile(\"/data/project/Meningioma/00.Targetted/02.Align/hg38/Dura/01.Pre_bam/230419.sorted.bam\", \"rb\")\n",
    "bam_file = pysam.AlignmentFile(\"/data/project/Meningioma/02.Align/hg38/Dura/05.Final_bam/230419_Dura.bam\", \"rb\")\n",
    "\n",
    "# Define the chromosome and position you want to query\n",
    "chromosome = \"chr22\"\n",
    "position = 29674837\n",
    "\n",
    "# Initialize counters for REF and ALT allele counts\n",
    "ref_count = 0\n",
    "alt_count = 0\n",
    "\n",
    "# Iterate through the alignments to count alleles at the specified position\n",
    "for pileupcolumn in bam_file.pileup(chromosome, position-1, position):\n",
    "    for pileupread in pileupcolumn.pileups:\n",
    "        if pileupread.query_position == None : \n",
    "            print (pileupread.alignment.query )\n",
    "            alt_count += 1\n",
    "        elif pileupread.alignment.query_sequence[pileupread.query_position] == \"G\":\n",
    "            ref_count += 1\n",
    "            \n",
    "\n",
    "# Close the BAM file\n",
    "bam_file.close()\n",
    "\n",
    "# Print the REF and ALT allele counts\n",
    "print(\"REF Allele Count:\", ref_count)\n",
    "print(\"ALT Allele Count:\", alt_count)\n",
    "\n",
    "\n",
    "\n",
    "\n",
    "\n",
    "# # Iterate through the alignments to find reads overlapping the specified position\n",
    "# for read in bam_file.fetch(chromosome, position-1, position):\n",
    "#     print(\"Read Name:\", read.query_name)\n",
    "#     print(\"Chromosome:\", read.reference_name)\n",
    "#     print(\"Position:\", read.reference_start + 1)  # Adding 1 to make it 1-based\n",
    "#     print(\"CIGAR:\", read.cigarstring)\n",
    "#     print(\"Sequence:\", read.query_sequence)\n",
    "#     print(\"Mapping Quality:\", read.mapping_quality)\n",
    "#     print(\"Flags:\", read.flag)\n",
    "#     print(\"\")\n",
    "\n",
    "# # Close the BAM file\n",
    "# bam_file.close()"
   ]
  }
 ],
 "metadata": {
  "kernelspec": {
   "display_name": "cnvpytor",
   "language": "python",
   "name": "python3"
  },
  "language_info": {
   "codemirror_mode": {
    "name": "ipython",
    "version": 3
   },
   "file_extension": ".py",
   "mimetype": "text/x-python",
   "name": "python",
   "nbconvert_exporter": "python",
   "pygments_lexer": "ipython3",
   "version": "3.8.1"
  },
  "orig_nbformat": 4
 },
 "nbformat": 4,
 "nbformat_minor": 2
}
