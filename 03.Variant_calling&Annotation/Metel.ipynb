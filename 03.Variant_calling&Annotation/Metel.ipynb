{
 "cells": [
  {
   "cell_type": "code",
   "execution_count": 15,
   "metadata": {},
   "outputs": [
    {
     "data": {
      "text/html": [
       "<div>\n",
       "<style scoped>\n",
       "    .dataframe tbody tr th:only-of-type {\n",
       "        vertical-align: middle;\n",
       "    }\n",
       "\n",
       "    .dataframe tbody tr th {\n",
       "        vertical-align: top;\n",
       "    }\n",
       "\n",
       "    .dataframe thead th {\n",
       "        text-align: right;\n",
       "    }\n",
       "</style>\n",
       "<table border=\"1\" class=\"dataframe\">\n",
       "  <thead>\n",
       "    <tr style=\"text-align: right;\">\n",
       "      <th></th>\n",
       "      <th>Dura</th>\n",
       "      <th>FFT</th>\n",
       "      <th>PCT</th>\n",
       "      <th>PFT</th>\n",
       "      <th>PP</th>\n",
       "      <th>PT</th>\n",
       "    </tr>\n",
       "  </thead>\n",
       "  <tbody>\n",
       "    <tr>\n",
       "      <th>Dura</th>\n",
       "      <td>1.00</td>\n",
       "      <td>0.25</td>\n",
       "      <td>0.15</td>\n",
       "      <td>0.25</td>\n",
       "      <td>0.02</td>\n",
       "      <td>0.25</td>\n",
       "    </tr>\n",
       "    <tr>\n",
       "      <th>FFT</th>\n",
       "      <td>0.25</td>\n",
       "      <td>1.00</td>\n",
       "      <td>0.15</td>\n",
       "      <td>0.41</td>\n",
       "      <td>0.02</td>\n",
       "      <td>0.36</td>\n",
       "    </tr>\n",
       "    <tr>\n",
       "      <th>PCT</th>\n",
       "      <td>0.15</td>\n",
       "      <td>0.15</td>\n",
       "      <td>1.00</td>\n",
       "      <td>0.15</td>\n",
       "      <td>0.02</td>\n",
       "      <td>0.15</td>\n",
       "    </tr>\n",
       "    <tr>\n",
       "      <th>PFT</th>\n",
       "      <td>0.25</td>\n",
       "      <td>0.41</td>\n",
       "      <td>0.15</td>\n",
       "      <td>1.00</td>\n",
       "      <td>0.02</td>\n",
       "      <td>0.36</td>\n",
       "    </tr>\n",
       "    <tr>\n",
       "      <th>PP</th>\n",
       "      <td>0.02</td>\n",
       "      <td>0.02</td>\n",
       "      <td>0.02</td>\n",
       "      <td>0.02</td>\n",
       "      <td>1.00</td>\n",
       "      <td>0.02</td>\n",
       "    </tr>\n",
       "    <tr>\n",
       "      <th>PT</th>\n",
       "      <td>0.25</td>\n",
       "      <td>0.36</td>\n",
       "      <td>0.15</td>\n",
       "      <td>0.36</td>\n",
       "      <td>0.02</td>\n",
       "      <td>1.00</td>\n",
       "    </tr>\n",
       "  </tbody>\n",
       "</table>\n",
       "</div>"
      ],
      "text/plain": [
       "      Dura   FFT   PCT   PFT    PP    PT\n",
       "Dura  1.00  0.25  0.15  0.25  0.02  0.25\n",
       "FFT   0.25  1.00  0.15  0.41  0.02  0.36\n",
       "PCT   0.15  0.15  1.00  0.15  0.02  0.15\n",
       "PFT   0.25  0.41  0.15  1.00  0.02  0.36\n",
       "PP    0.02  0.02  0.02  0.02  1.00  0.02\n",
       "PT    0.25  0.36  0.15  0.36  0.02  1.00"
      ]
     },
     "execution_count": 15,
     "metadata": {},
     "output_type": "execute_result"
    }
   ],
   "source": [
    "import seaborn as sns\n",
    "import math\n",
    "import matplotlib.pyplot as plt\n",
    "import matplotlib.colors as mcl\n",
    "import numpy as np\n",
    "import pandas as pd\n",
    "from matplotlib.colors import LinearSegmentedColormap\n",
    "\n",
    "df = pd.read_csv (\"Result_MeTel.txt\", sep = \"\\t\", index_col = 0 )\n",
    "df = df.apply(lambda x: np.power(10, x))\n",
    "for i in range (len(df)):\n",
    "    df.iloc[i][i] = 1\n",
    "df = df.round(2)\n",
    "df"
   ]
  },
  {
   "cell_type": "code",
   "execution_count": 27,
   "metadata": {},
   "outputs": [
    {
     "data": {
      "image/png": "[encoded data removed]",
      "text/plain": [
       "<Figure size 324x324 with 2 Axes>"
      ]
     },
     "metadata": {},
     "output_type": "display_data"
    }
   ],
   "source": [
    "plt.rcParams[\"font.family\"] = 'arial'\n",
    "fig, ax = plt.subplots ( nrows = 1, ncols = 1, figsize =(4.5, 4.5))\n",
    "\n",
    "colors = [ \"#914340\", \"#E8C0BE\", \"white\"]\n",
    "positions = [0, 0.5, 1]  # Define the positions for each color\n",
    "# Create the colormap\n",
    "cmap = LinearSegmentedColormap.from_list('custom_cmap', list(zip(positions, colors)))\n",
    "\n",
    "fig.subplots_adjust ( wspace = 0.4, bottom = 0.03, top = 0.7, left = 0.22, right = 0.98)\n",
    "fig.set_facecolor('white')\n",
    "\n",
    "sns.heatmap ( df , cmap = cmap, linewidths = 0.5, linecolor = \"black\", annot = df, annot_kws={\"size\": 35 / np.sqrt(len( df))} )   # fmt=\".2f\", \n",
    "#fig.suptitle ( title, fontsize = 12, fontweight = \"bold\", ha = \"left\", x = 0 )\n",
    "ax.set_xticklabels( ax.get_xticklabels(),  ha = 'center' )\n",
    "ax.tick_params(axis = 'x',  pad = -2.5)\n",
    "ax.set_yticklabels( [ i.get_text().replace( \"_Multiplex.sorted\" , \"\" ) for i in ax.get_yticklabels()], va = 'center' )\n",
    "ax.tick_params(axis = 'y', pad = -1.5 )\n",
    "\n",
    "plt.tick_params(axis='both', which='major', labelsize = 12, left = False, labelbottom = False, bottom=False, top = False, labeltop=True)\n",
    "\n",
    "\n",
    "fig.savefig ( \"/data/project/Meningioma/script/03.Variant_calling&Annotation/MeTel.heatmap.pdf\", dpi = 300)"
   ]
  }
 ],
 "metadata": {
  "kernelspec": {
   "display_name": "Python 3",
   "language": "python",
   "name": "python3"
  },
  "language_info": {
   "codemirror_mode": {
    "name": "ipython",
    "version": 3
   },
   "file_extension": ".py",
   "mimetype": "text/x-python",
   "name": "python",
   "nbconvert_exporter": "python",
   "pygments_lexer": "ipython3",
   "version": "3.8.1"
  }
 },
 "nbformat": 4,
 "nbformat_minor": 2
}
