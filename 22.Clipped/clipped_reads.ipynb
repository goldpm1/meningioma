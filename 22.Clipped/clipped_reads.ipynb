{
 "cells": [
  {
   "cell_type": "code",
   "execution_count": 39,
   "metadata": {},
   "outputs": [],
   "source": [
    "import pysam\n",
    "import numpy as np\n",
    "\n",
    "DIR = \"/data/project/Meningioma/02.Align/hg38/Tumor/05.Final_bam/230405_Tumor.chr22.bam\"\n",
    "\n",
    "TUMOR_BAM_PYSAM = pysam.AlignmentFile( DIR , 'rb')\n",
    "BLOOD_BAM_PYSAM = pysam.AlignmentFile( DIR.replace(\"Tumor\", \"Blood\") , 'rb')\n",
    "\n",
    "#1. TUMOR 의 read를 돌기\n",
    "prev_pos = -1\n",
    "cnt = 0\n",
    "li_tumor, li_blood = [], []\n",
    "\n",
    "for read in TUMOR_BAM_PYSAM.fetch():\n",
    "    if (read.reference_name == \"chr22\") & ( read.pos > 29603000) & (read.pos < 29700000):\n",
    "        if read.cigarstring != None:  # 왜 None이 있지?\n",
    "            if (\"S\" in read.cigarstring)  |  (\"H\" in read.cigarstring):\n",
    "                #print(\"Pos : {}\\t{}\\tRead name : {}\\t\".format(read.reference_name, read.pos, read.query_name))\n",
    "                if read.pos != prev_pos:\n",
    "                    cnt = 1\n",
    "                    prev_pos = read.pos\n",
    "                else:\n",
    "                    cnt = cnt + 1\n",
    "\n",
    "        \n",
    "        if cnt  >= 2:\n",
    "            li_tumor.append (prev_pos)\n",
    "            cnt = 0\n",
    "\n",
    "#2. BLOOD 의 read를 돌기\n",
    "prev_pos = -1\n",
    "cnt = 0\n",
    "\n",
    "for read in BLOOD_BAM_PYSAM.fetch():\n",
    "    if (read.reference_name == \"chr22\") & ( read.pos > 2960300) & (read.pos < 29700000):\n",
    "        if read.cigarstring != None:  # 왜 None이 있지?\n",
    "            if (\"S\" in read.cigarstring)  |  (\"H\" in read.cigarstring):\n",
    "                #print(\"Pos : {}\\t{}\\tRead name : {}\\t\".format(read.reference_name, read.pos, read.query_name))\n",
    "                if read.pos != prev_pos:\n",
    "                    cnt = 1\n",
    "                    prev_pos = read.pos\n",
    "                else:\n",
    "                    cnt = cnt + 1\n",
    "\n",
    "        \n",
    "        if cnt  >= 2:\n",
    "            li_blood.append (prev_pos)\n",
    "            cnt = 0\n",
    "\n",
    "\n",
    "# Close the BAM file\n",
    "TUMOR_BAM_PYSAM.close()\n",
    "BLOOD_BAM_PYSAM.close()"
   ]
  },
  {
   "cell_type": "code",
   "execution_count": 40,
   "metadata": {},
   "outputs": [
    {
     "data": {
      "text/plain": [
       "[29661668, 29696068]"
      ]
     },
     "execution_count": 40,
     "metadata": {},
     "output_type": "execute_result"
    }
   ],
   "source": [
    "li_tumor"
   ]
  },
  {
   "cell_type": "code",
   "execution_count": 33,
   "metadata": {},
   "outputs": [
    {
     "name": "stdout",
     "output_type": "stream",
     "text": [
      "chr22:15631893 - 2개\n",
      "chr22:16559194 - 2개\n",
      "chr22:17120651 - 2개\n",
      "chr22:17592800 - 2개\n",
      "chr22:17818266 - 2개\n",
      "chr22:18090863 - 4개\n",
      "chr22:18517958 - 2개\n",
      "chr22:18775265 - 2개\n",
      "chr22:19516776 - 2개\n",
      "chr22:19851987 - 2개\n",
      "chr22:20116784 - 2개\n",
      "chr22:20139738 - 2개\n",
      "chr22:20139743 - 2개\n",
      "chr22:20537211 - 2개\n",
      "chr22:20582647 - 2개\n",
      "chr22:20702774 - 2개\n",
      "chr22:21360770 - 2개\n",
      "chr22:21385728 - 2개\n",
      "chr22:21658100 - 2개\n",
      "chr22:22117815 - 2개\n",
      "chr22:22704472 - 2개\n",
      "chr22:23146382 - 2개\n",
      "chr22:24895118 - 2개\n",
      "chr22:25564930 - 2개\n",
      "chr22:26483921 - 2개\n",
      "chr22:26622648 - 2개\n",
      "chr22:26622677 - 2개\n",
      "chr22:28734825 - 2개\n",
      "chr22:28773077 - 2개\n",
      "chr22:28884086 - 2개\n",
      "chr22:29255127 - 3개\n",
      "chr22:29298857 - 2개\n",
      "chr22:29315730 - 2개\n",
      "chr22:29489517 - 2개\n",
      "chr22:29489537 - 2개\n",
      "chr22:29970890 - 2개\n",
      "chr22:30285776 - 2개\n",
      "chr22:30376239 - 2개\n",
      "chr22:30387339 - 2개\n",
      "chr22:30387342 - 2개\n",
      "chr22:31815577 - 2개\n",
      "chr22:31938162 - 2개\n",
      "chr22:31938171 - 2개\n",
      "chr22:31938177 - 2개\n",
      "chr22:35346956 - 2개\n",
      "chr22:37002389 - 2개\n",
      "chr22:37086495 - 2개\n",
      "chr22:37089498 - 2개\n",
      "chr22:37373429 - 2개\n",
      "chr22:37491663 - 3개\n",
      "chr22:37491686 - 2개\n",
      "chr22:37608845 - 2개\n",
      "chr22:37724562 - 2개\n",
      "chr22:38086303 - 2개\n",
      "chr22:38088635 - 2개\n",
      "chr22:38088642 - 2개\n",
      "chr22:38088643 - 2개\n",
      "chr22:38097978 - 2개\n",
      "chr22:38134912 - 2개\n",
      "chr22:38145033 - 2개\n",
      "chr22:38298221 - 2개\n",
      "chr22:38505877 - 2개\n",
      "chr22:39023091 - 2개\n",
      "chr22:39240929 - 2개\n",
      "chr22:39489055 - 2개\n",
      "chr22:40246073 - 2개\n",
      "chr22:41178968 - 2개\n",
      "chr22:41179894 - 2개\n",
      "chr22:41230039 - 2개\n",
      "chr22:41237874 - 2개\n",
      "chr22:41382249 - 2개\n",
      "chr22:41914271 - 2개\n",
      "chr22:42573861 - 2개\n",
      "chr22:42640350 - 3개\n",
      "chr22:43214009 - 2개\n",
      "chr22:43221386 - 2개\n",
      "chr22:43887704 - 3개\n",
      "chr22:45205707 - 2개\n",
      "chr22:45205728 - 2개\n",
      "chr22:45205741 - 2개\n",
      "chr22:45353864 - 2개\n",
      "chr22:45972082 - 2개\n",
      "chr22:46198658 - 2개\n",
      "chr22:46274167 - 2개\n",
      "chr22:46369188 - 2개\n",
      "chr22:46577338 - 2개\n",
      "chr22:46577351 - 2개\n",
      "chr22:46661478 - 2개\n",
      "chr22:50060640 - 2개\n",
      "chr22:50085725 - 2개\n",
      "chr22:50249308 - 2개\n",
      "chr22:50268069 - 2개\n",
      "chr22:50282294 - 2개\n",
      "chr22:50282308 - 2개\n",
      "chr22:50282336 - 2개\n",
      "chr22:50282343 - 2개\n",
      "chr22:50283485 - 2개\n",
      "chr22:50301322 - 2개\n",
      "chr22:50433483 - 2개\n",
      "chr22:50447414 - 2개\n",
      "chr22:50466336 - 2개\n",
      "chr22:50504442 - 2개\n",
      "chr22:50508474 - 2개\n",
      "chr22:50508492 - 2개\n",
      "chr22:50515695 - 2개\n",
      "chr22:50695090 - 2개\n",
      "chr22:50720224 - 3개\n",
      "chr22:50731253 - 2개\n"
     ]
    }
   ],
   "source": [
    "import numpy as np\n",
    "\n",
    "c = np.unique (np.array(li_tumor), return_counts = True )\n",
    "somatic_clip = sorted ( list (set(li_tumor) - set(li_blood)) )\n",
    "\n",
    "for i in range ( len(c[0]) ):\n",
    "    if (c[0][i] in somatic_clip) & (c[1][i] >= 2):\n",
    "        print (\"chr22:{} - {}개\".format(c[0][i], c[1][i]))"
   ]
  },
  {
   "cell_type": "code",
   "execution_count": 24,
   "metadata": {},
   "outputs": [
    {
     "data": {
      "text/plain": [
       "array([10703322, 10722958, 10723438, ..., 50731253, 50731272, 50807054])"
      ]
     },
     "execution_count": 24,
     "metadata": {},
     "output_type": "execute_result"
    }
   ],
   "source": [
    "np.unique (np.array(li_tumor), return_counts = True )[0]"
   ]
  }
 ],
 "metadata": {
  "kernelspec": {
   "display_name": "cnvpytor",
   "language": "python",
   "name": "python3"
  },
  "language_info": {
   "codemirror_mode": {
    "name": "ipython",
    "version": 3
   },
   "file_extension": ".py",
   "mimetype": "text/x-python",
   "name": "python",
   "nbconvert_exporter": "python",
   "pygments_lexer": "ipython3",
   "version": "3.7.12"
  },
  "orig_nbformat": 4
 },
 "nbformat": 4,
 "nbformat_minor": 2
}
