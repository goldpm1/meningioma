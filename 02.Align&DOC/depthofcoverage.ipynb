{
 "cells": [
  {
   "cell_type": "markdown",
   "metadata": {},
   "source": [
    "### 전체 data의 DOC를 확인해보기"
   ]
  },
  {
   "cell_type": "code",
   "execution_count": 1,
   "metadata": {},
   "outputs": [
    {
     "data": {
      "text/html": [
       "<div>\n",
       "<style scoped>\n",
       "    .dataframe tbody tr th:only-of-type {\n",
       "        vertical-align: middle;\n",
       "    }\n",
       "\n",
       "    .dataframe tbody tr th {\n",
       "        vertical-align: top;\n",
       "    }\n",
       "\n",
       "    .dataframe thead th {\n",
       "        text-align: right;\n",
       "    }\n",
       "</style>\n",
       "<table border=\"1\" class=\"dataframe\">\n",
       "  <thead>\n",
       "    <tr style=\"text-align: right;\">\n",
       "      <th></th>\n",
       "      <th>sample_id</th>\n",
       "      <th>mean</th>\n",
       "      <th>granular_median</th>\n",
       "    </tr>\n",
       "  </thead>\n",
       "  <tbody>\n",
       "    <tr>\n",
       "      <th>0</th>\n",
       "      <td>220930_Blood</td>\n",
       "      <td>172</td>\n",
       "      <td>151</td>\n",
       "    </tr>\n",
       "    <tr>\n",
       "      <th>1</th>\n",
       "      <td>221026_Blood</td>\n",
       "      <td>144</td>\n",
       "      <td>126</td>\n",
       "    </tr>\n",
       "    <tr>\n",
       "      <th>2</th>\n",
       "      <td>221102_Blood</td>\n",
       "      <td>183</td>\n",
       "      <td>161</td>\n",
       "    </tr>\n",
       "    <tr>\n",
       "      <th>3</th>\n",
       "      <td>220930_Tumor</td>\n",
       "      <td>153</td>\n",
       "      <td>128</td>\n",
       "    </tr>\n",
       "    <tr>\n",
       "      <th>4</th>\n",
       "      <td>221026_Tumor</td>\n",
       "      <td>158</td>\n",
       "      <td>135</td>\n",
       "    </tr>\n",
       "    <tr>\n",
       "      <th>5</th>\n",
       "      <td>221102_Tumor</td>\n",
       "      <td>157</td>\n",
       "      <td>136</td>\n",
       "    </tr>\n",
       "    <tr>\n",
       "      <th>6</th>\n",
       "      <td>220930_Dura</td>\n",
       "      <td>217</td>\n",
       "      <td>190</td>\n",
       "    </tr>\n",
       "    <tr>\n",
       "      <th>7</th>\n",
       "      <td>221026_Dura</td>\n",
       "      <td>360</td>\n",
       "      <td>309</td>\n",
       "    </tr>\n",
       "    <tr>\n",
       "      <th>8</th>\n",
       "      <td>221102_Dura</td>\n",
       "      <td>232</td>\n",
       "      <td>201</td>\n",
       "    </tr>\n",
       "  </tbody>\n",
       "</table>\n",
       "</div>"
      ],
      "text/plain": [
       "      sample_id  mean  granular_median\n",
       "0  220930_Blood   172              151\n",
       "1  221026_Blood   144              126\n",
       "2  221102_Blood   183              161\n",
       "3  220930_Tumor   153              128\n",
       "4  221026_Tumor   158              135\n",
       "5  221102_Tumor   157              136\n",
       "6   220930_Dura   217              190\n",
       "7   221026_Dura   360              309\n",
       "8   221102_Dura   232              201"
      ]
     },
     "execution_count": 1,
     "metadata": {},
     "output_type": "execute_result"
    }
   ],
   "source": [
    "import pandas as pd\n",
    "import numpy as np\n",
    "import os\n",
    "\n",
    "DATA_PATH=\"/home/goldpm1/Meningioma/02.Align\"\n",
    "datenames = [line.rstrip('\\n') for line in open('/home/goldpm1/Meningioma/script/sample_name.txt', 'r')]       # ['220930', '220930', '220930']\n",
    "\n",
    "\n",
    "df = pd.DataFrame (columns = list (pd.read_csv ( \"/home/goldpm1/Meningioma/02.Align/Dura/06.DepthOfCoverage/221026_Dura.depth.result.sample_summary\" , sep = \",\" ).columns )  )\n",
    "\n",
    "\n",
    "for tissue in [\"Blood\", \"Tumor\", \"Dura\"]:\n",
    "    for date in datenames:\n",
    "        samplename = \"{}_{}\".format(date, tissue)\n",
    "        INPUT_DOC =  DATA_PATH + \"/\" + tissue + \"/06.DepthOfCoverage/\" + samplename + \".depth.result.sample_summary\"\n",
    "\n",
    "        df_individual = pd.read_csv (INPUT_DOC, sep = \",\" )\n",
    "        df = df.append(df_individual.iloc[0], ignore_index = True)    #개별 sample row만 합쳐준다\n",
    "\n",
    "df = df.astype ( {\"mean\" : \"int\", \"granular_median\" : \"int\"})\n",
    "\n",
    "df [[\"sample_id\", \"mean\", \"granular_median\"]]\n"
   ]
  },
  {
   "cell_type": "markdown",
   "metadata": {},
   "source": [
    "# 연습장"
   ]
  },
  {
   "cell_type": "code",
   "execution_count": 3,
   "metadata": {},
   "outputs": [
    {
     "data": {
      "text/plain": [
       "26"
      ]
     },
     "execution_count": 3,
     "metadata": {},
     "output_type": "execute_result"
    }
   ],
   "source": [
    "maf_colnames = ['Chromosome', 'Start_Position', 'End_Position',\n",
    "                'Tumor_Sample_Barcode', \"ID\", 'Hugo_Symbol', 'Reference_Allele',\n",
    "                'Tumor_Seq_Allele2',  \"Alt\", \"Depth\", \"BIOTYPE\", 'Variant_Classification', \"Impact\",\n",
    "                'tx', 'exon', \"rsID\", 'txChange', 'aaChange', 'Variant_Type', 'sample_id',\n",
    "                'hgnc_symbol', 'Entrez', 'ens_id', 'Entrez_Gene_Id',\n",
    "                \"clinvar_MedGen_id\", \"clinvar_OMIM_id\", \"clinvar_Orphanet_id\", \"clinvar_clnsig\", \"clinvar_hgvs\", \"clinvar_id\", \"clinvar_review\", \"clinvar_trait\", \"clinvar_var_source\",\n",
    "                \"CLIN_SIG\", \"SIFT\", \"PolyPhen\",\n",
    "                \"SIFT_pred\", \"Polyphen2_HDIV_pred\", \"Polyphen2_HVAR_pred\",\n",
    "                \"ClinPred_pred\", \"ClinPred_rankscore\", \"ClinPred_score\", \"DANN_rankscore\", \"DANN_score\",\n",
    "                \"CADD\", \"GERP++_RS\", \"FATHMM_pred\", \"FATHMM_score\", 'MetaSVM_pred',  \"MetaSVM_rankscore\", \"MetaSVM_score\", \"MutationTaster_pred\", 'MutationAssessor_pred',\n",
    "                \"SpliceAI_pred_DS_AG\", \"SpliceAI_pred_DS_AL\", \"SpliceAI_pred_DS_DG\", \"SpliceAI_pred_DS_DL\", \"SpliceAI_score\",\n",
    "                'MOTIF_NAME', 'MOTIF_POS', \"MOTIF_SCORE_CHANGE\", \"TRANSCRIPTION_FACTORS\", 'FunMotifs', \"Nearest_gene\",\n",
    "                \"KRG\", \"K1\", \"gnomAD\", \"dbSNP\"]\n",
    "noncoding_colnames = [\"ChIP\", \"DNase\", \"PWM\", \"Footprint\", \"QTL\", \"PWM_matched\", \"Footprint_matched\", \"ranking_probability\", \"Non_Coding_Score\", \"Non_Coding_Groups\", \"Coding_Score\", \"Coding_Group\", \"EA_enhancer\", \"GH_promoter\", \"GH_enhancer\", \"RefSeq_promoter\", \"GH_promoter_enhancer\", \"ENSEMBL_promoter\", \"mTL_miRNA\",\n",
    "                      \"greendb_id\", \"greendb_stdtype\", \"greendb_dbsource\", \"greendb_genes\", \"green_constraint\", \"greendb_level\", \"ANN\"]\n",
    "\n",
    "len(noncoding_colnames)"
   ]
  }
 ],
 "metadata": {
  "kernelspec": {
   "display_name": "Python 3",
   "language": "python",
   "name": "python3"
  },
  "language_info": {
   "codemirror_mode": {
    "name": "ipython",
    "version": 3
   },
   "file_extension": ".py",
   "mimetype": "text/x-python",
   "name": "python",
   "nbconvert_exporter": "python",
   "pygments_lexer": "ipython3",
   "version": "3.8.1"
  },
  "orig_nbformat": 4,
  "vscode": {
   "interpreter": {
    "hash": "7b5c7a496a28c03432057dcb80d92e2013c1e0103db013fec4e486da491292b8"
   }
  }
 },
 "nbformat": 4,
 "nbformat_minor": 2
}
